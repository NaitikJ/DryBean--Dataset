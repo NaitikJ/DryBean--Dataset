{
 "cells": [
  {
   "cell_type": "markdown",
   "metadata": {},
   "source": [
    "# MODEL"
   ]
  },
  {
   "cell_type": "markdown",
   "metadata": {},
   "source": [
    "# Trainig And Testing"
   ]
  },
  {
   "cell_type": "code",
   "execution_count": 2,
   "metadata": {},
   "outputs": [],
   "source": [
    "import pandas as pd\n",
    "import matplotlib.pyplot as plt\n",
    "from sklearn.model_selection import train_test_split\n",
    "from keras.utils import np_utils\n",
    "from sklearn.preprocessing import LabelEncoder\n",
    "from keras.utils.np_utils import to_categorical"
   ]
  },
  {
   "cell_type": "code",
   "execution_count": 3,
   "metadata": {},
   "outputs": [],
   "source": [
    "df = pd.read_csv(\"Dry_Bean_Dataset.csv\")"
   ]
  },
  {
   "cell_type": "code",
   "execution_count": 4,
   "metadata": {},
   "outputs": [],
   "source": [
    "X = df.drop('Class',axis=1).values\n",
    "y = df['Class'].values"
   ]
  },
  {
   "cell_type": "code",
   "execution_count": 5,
   "metadata": {},
   "outputs": [],
   "source": [
    "encoder = LabelEncoder()\n",
    "encoder.fit(y)\n",
    "y = encoder.transform(y)\n",
    "y = np_utils.to_categorical(y)"
   ]
  },
  {
   "cell_type": "code",
   "execution_count": 6,
   "metadata": {},
   "outputs": [],
   "source": [
    "X_train, X_test, y_train, y_test = train_test_split(X, y, test_size=0.3, random_state=101)"
   ]
  },
  {
   "cell_type": "markdown",
   "metadata": {},
   "source": [
    "### Normalising"
   ]
  },
  {
   "cell_type": "code",
   "execution_count": 7,
   "metadata": {},
   "outputs": [],
   "source": [
    "from sklearn.preprocessing import MinMaxScaler"
   ]
  },
  {
   "cell_type": "code",
   "execution_count": 8,
   "metadata": {},
   "outputs": [],
   "source": [
    "scaler = MinMaxScaler()"
   ]
  },
  {
   "cell_type": "code",
   "execution_count": 9,
   "metadata": {},
   "outputs": [],
   "source": [
    "X_train = scaler.fit_transform(X_train)\n",
    "X_test = scaler.transform(X_test)"
   ]
  },
  {
   "cell_type": "markdown",
   "metadata": {},
   "source": [
    "### Model"
   ]
  },
  {
   "cell_type": "code",
   "execution_count": 10,
   "metadata": {},
   "outputs": [],
   "source": [
    "import tensorflow as tf\n",
    "from tensorflow.keras import Sequential\n",
    "from tensorflow.keras.layers import Dense,Dropout"
   ]
  },
  {
   "cell_type": "code",
   "execution_count": 11,
   "metadata": {},
   "outputs": [],
   "source": [
    "model = Sequential()\n",
    "\n",
    "model.add(Dense(80,activation='relu'))\n",
    "model.add(Dropout(.3))\n",
    "model.add(Dense(40,activation='relu'))\n",
    "model.add(Dropout(.3))\n",
    "model.add(Dense(20,activation='relu'))\n",
    "model.add(Dropout(.3))\n",
    "model.add(Dense(10,activation='relu'))\n",
    "model.add(Dropout(.3))\n",
    "model.add(Dense(7,activation='softmax'))\n",
    "\n",
    "model.compile(optimizer = 'adam',loss='categorical_crossentropy',metrics='accuracy')"
   ]
  },
  {
   "cell_type": "code",
   "execution_count": 12,
   "metadata": {},
   "outputs": [],
   "source": [
    "from tensorflow.keras.callbacks import EarlyStopping"
   ]
  },
  {
   "cell_type": "code",
   "execution_count": 13,
   "metadata": {},
   "outputs": [],
   "source": [
    "early_stop = EarlyStopping(monitor='val_loss',mode='min',verbose=1,patience=25)"
   ]
  },
  {
   "cell_type": "code",
   "execution_count": 14,
   "metadata": {},
   "outputs": [
    {
     "name": "stdout",
     "output_type": "stream",
     "text": [
      "Epoch 1/400\n",
      "38/38 [==============================] - 7s 135ms/step - loss: 1.9449 - accuracy: 0.1559 - val_loss: 1.8341 - val_accuracy: 0.2603\n",
      "Epoch 2/400\n",
      "38/38 [==============================] - 0s 8ms/step - loss: 1.8276 - accuracy: 0.2461 - val_loss: 1.6183 - val_accuracy: 0.2603\n",
      "Epoch 3/400\n",
      "38/38 [==============================] - 0s 9ms/step - loss: 1.6579 - accuracy: 0.2626 - val_loss: 1.4433 - val_accuracy: 0.2919\n",
      "Epoch 4/400\n",
      "38/38 [==============================] - 0s 9ms/step - loss: 1.5159 - accuracy: 0.3464 - val_loss: 1.2115 - val_accuracy: 0.5845\n",
      "Epoch 5/400\n",
      "38/38 [==============================] - 0s 9ms/step - loss: 1.3489 - accuracy: 0.4595 - val_loss: 0.9853 - val_accuracy: 0.6315\n",
      "Epoch 6/400\n",
      "38/38 [==============================] - 0s 8ms/step - loss: 1.1887 - accuracy: 0.5231 - val_loss: 0.8364 - val_accuracy: 0.7057\n",
      "Epoch 7/400\n",
      "38/38 [==============================] - 0s 9ms/step - loss: 1.0921 - accuracy: 0.5721 - val_loss: 0.7496 - val_accuracy: 0.7635\n",
      "Epoch 8/400\n",
      "38/38 [==============================] - 0s 8ms/step - loss: 1.0228 - accuracy: 0.6079 - val_loss: 0.6784 - val_accuracy: 0.8007\n",
      "Epoch 9/400\n",
      "38/38 [==============================] - 0s 8ms/step - loss: 0.9778 - accuracy: 0.6250 - val_loss: 0.6310 - val_accuracy: 0.8582\n",
      "Epoch 10/400\n",
      "38/38 [==============================] - 0s 9ms/step - loss: 0.8985 - accuracy: 0.6755 - val_loss: 0.5583 - val_accuracy: 0.8825\n",
      "Epoch 11/400\n",
      "38/38 [==============================] - 0s 9ms/step - loss: 0.8651 - accuracy: 0.6934 - val_loss: 0.5309 - val_accuracy: 0.8910\n",
      "Epoch 12/400\n",
      "38/38 [==============================] - 0s 8ms/step - loss: 0.8299 - accuracy: 0.7024 - val_loss: 0.4931 - val_accuracy: 0.8923\n",
      "Epoch 13/400\n",
      "38/38 [==============================] - 0s 8ms/step - loss: 0.8097 - accuracy: 0.7095 - val_loss: 0.4689 - val_accuracy: 0.8969\n",
      "Epoch 14/400\n",
      "38/38 [==============================] - 0s 8ms/step - loss: 0.7630 - accuracy: 0.7351 - val_loss: 0.4478 - val_accuracy: 0.8834\n",
      "Epoch 15/400\n",
      "38/38 [==============================] - 0s 8ms/step - loss: 0.7539 - accuracy: 0.7319 - val_loss: 0.4430 - val_accuracy: 0.8923\n",
      "Epoch 16/400\n",
      "38/38 [==============================] - 0s 8ms/step - loss: 0.7439 - accuracy: 0.7487 - val_loss: 0.4191 - val_accuracy: 0.8969\n",
      "Epoch 17/400\n",
      "38/38 [==============================] - 0s 8ms/step - loss: 0.6893 - accuracy: 0.7650 - val_loss: 0.4128 - val_accuracy: 0.8989\n",
      "Epoch 18/400\n",
      "38/38 [==============================] - 0s 9ms/step - loss: 0.6973 - accuracy: 0.7671 - val_loss: 0.4000 - val_accuracy: 0.8925\n",
      "Epoch 19/400\n",
      "38/38 [==============================] - 0s 12ms/step - loss: 0.6870 - accuracy: 0.7702 - val_loss: 0.4041 - val_accuracy: 0.8994\n",
      "Epoch 20/400\n",
      "38/38 [==============================] - 0s 11ms/step - loss: 0.6764 - accuracy: 0.7796 - val_loss: 0.3896 - val_accuracy: 0.8964\n",
      "Epoch 21/400\n",
      "38/38 [==============================] - 0s 10ms/step - loss: 0.6648 - accuracy: 0.7704 - val_loss: 0.3885 - val_accuracy: 0.8974\n",
      "Epoch 22/400\n",
      "38/38 [==============================] - 0s 10ms/step - loss: 0.6416 - accuracy: 0.7886 - val_loss: 0.3862 - val_accuracy: 0.8979\n",
      "Epoch 23/400\n",
      "38/38 [==============================] - 0s 13ms/step - loss: 0.6376 - accuracy: 0.7978 - val_loss: 0.3848 - val_accuracy: 0.8986\n",
      "Epoch 24/400\n",
      "38/38 [==============================] - 0s 12ms/step - loss: 0.6188 - accuracy: 0.8096 - val_loss: 0.3790 - val_accuracy: 0.8994\n",
      "Epoch 25/400\n",
      "38/38 [==============================] - 0s 8ms/step - loss: 0.6102 - accuracy: 0.8032 - val_loss: 0.3751 - val_accuracy: 0.8979\n",
      "Epoch 26/400\n",
      "38/38 [==============================] - 0s 8ms/step - loss: 0.6350 - accuracy: 0.7979 - val_loss: 0.3765 - val_accuracy: 0.9035\n",
      "Epoch 27/400\n",
      "38/38 [==============================] - 0s 8ms/step - loss: 0.6162 - accuracy: 0.8014 - val_loss: 0.3611 - val_accuracy: 0.9035\n",
      "Epoch 28/400\n",
      "38/38 [==============================] - 0s 13ms/step - loss: 0.6069 - accuracy: 0.8059 - val_loss: 0.3655 - val_accuracy: 0.9016\n",
      "Epoch 29/400\n",
      "38/38 [==============================] - 0s 8ms/step - loss: 0.6013 - accuracy: 0.8108 - val_loss: 0.3539 - val_accuracy: 0.9048\n",
      "Epoch 30/400\n",
      "38/38 [==============================] - 0s 8ms/step - loss: 0.5959 - accuracy: 0.8092 - val_loss: 0.3551 - val_accuracy: 0.9028\n",
      "Epoch 31/400\n",
      "38/38 [==============================] - 0s 8ms/step - loss: 0.6001 - accuracy: 0.8118 - val_loss: 0.3518 - val_accuracy: 0.9089\n",
      "Epoch 32/400\n",
      "38/38 [==============================] - 0s 8ms/step - loss: 0.5656 - accuracy: 0.8211 - val_loss: 0.3435 - val_accuracy: 0.9065\n",
      "Epoch 33/400\n",
      "38/38 [==============================] - 0s 8ms/step - loss: 0.5818 - accuracy: 0.8187 - val_loss: 0.3481 - val_accuracy: 0.9055\n",
      "Epoch 34/400\n",
      "38/38 [==============================] - 0s 8ms/step - loss: 0.5747 - accuracy: 0.8210 - val_loss: 0.3448 - val_accuracy: 0.9084\n",
      "Epoch 35/400\n",
      "38/38 [==============================] - 0s 8ms/step - loss: 0.5785 - accuracy: 0.8224 - val_loss: 0.3395 - val_accuracy: 0.9087\n",
      "Epoch 36/400\n",
      "38/38 [==============================] - 0s 8ms/step - loss: 0.5982 - accuracy: 0.8198 - val_loss: 0.3364 - val_accuracy: 0.9067\n",
      "Epoch 37/400\n",
      "38/38 [==============================] - 0s 8ms/step - loss: 0.5780 - accuracy: 0.8172 - val_loss: 0.3367 - val_accuracy: 0.9070\n",
      "Epoch 38/400\n",
      "38/38 [==============================] - 0s 8ms/step - loss: 0.6024 - accuracy: 0.8167 - val_loss: 0.3280 - val_accuracy: 0.9104\n",
      "Epoch 39/400\n",
      "38/38 [==============================] - 0s 9ms/step - loss: 0.5930 - accuracy: 0.8169 - val_loss: 0.3334 - val_accuracy: 0.9133\n",
      "Epoch 40/400\n",
      "38/38 [==============================] - 0s 8ms/step - loss: 0.5501 - accuracy: 0.8265 - val_loss: 0.3360 - val_accuracy: 0.9084\n",
      "Epoch 41/400\n",
      "38/38 [==============================] - 0s 8ms/step - loss: 0.5569 - accuracy: 0.8251 - val_loss: 0.3232 - val_accuracy: 0.9114\n",
      "Epoch 42/400\n",
      "38/38 [==============================] - 1s 14ms/step - loss: 0.5393 - accuracy: 0.8310 - val_loss: 0.3251 - val_accuracy: 0.9136\n",
      "Epoch 43/400\n",
      "38/38 [==============================] - 1s 14ms/step - loss: 0.5646 - accuracy: 0.8299 - val_loss: 0.3211 - val_accuracy: 0.9160\n",
      "Epoch 44/400\n",
      "38/38 [==============================] - 0s 13ms/step - loss: 0.5515 - accuracy: 0.8314 - val_loss: 0.3210 - val_accuracy: 0.9141\n",
      "Epoch 45/400\n",
      "38/38 [==============================] - 0s 8ms/step - loss: 0.5401 - accuracy: 0.8346 - val_loss: 0.3162 - val_accuracy: 0.9138\n",
      "Epoch 46/400\n",
      "38/38 [==============================] - 0s 10ms/step - loss: 0.5351 - accuracy: 0.8340 - val_loss: 0.3191 - val_accuracy: 0.9099\n",
      "Epoch 47/400\n",
      "38/38 [==============================] - 0s 9ms/step - loss: 0.5376 - accuracy: 0.8262 - val_loss: 0.3188 - val_accuracy: 0.9148\n",
      "Epoch 48/400\n",
      "38/38 [==============================] - 0s 8ms/step - loss: 0.5357 - accuracy: 0.8345 - val_loss: 0.3124 - val_accuracy: 0.9128\n",
      "Epoch 49/400\n",
      "38/38 [==============================] - 0s 8ms/step - loss: 0.5338 - accuracy: 0.8350 - val_loss: 0.3151 - val_accuracy: 0.9121\n",
      "Epoch 50/400\n",
      "38/38 [==============================] - 0s 8ms/step - loss: 0.5298 - accuracy: 0.8333 - val_loss: 0.3084 - val_accuracy: 0.9119\n",
      "Epoch 51/400\n",
      "38/38 [==============================] - 0s 8ms/step - loss: 0.5189 - accuracy: 0.8442 - val_loss: 0.3068 - val_accuracy: 0.9167\n",
      "Epoch 52/400\n",
      "38/38 [==============================] - 0s 8ms/step - loss: 0.5207 - accuracy: 0.8371 - val_loss: 0.3061 - val_accuracy: 0.9175\n",
      "Epoch 53/400\n",
      "38/38 [==============================] - 0s 8ms/step - loss: 0.5242 - accuracy: 0.8373 - val_loss: 0.3070 - val_accuracy: 0.9153\n",
      "Epoch 54/400\n",
      "38/38 [==============================] - 0s 8ms/step - loss: 0.4980 - accuracy: 0.8449 - val_loss: 0.3059 - val_accuracy: 0.9119\n",
      "Epoch 55/400\n",
      "38/38 [==============================] - 0s 7ms/step - loss: 0.5080 - accuracy: 0.8360 - val_loss: 0.3048 - val_accuracy: 0.9182\n",
      "Epoch 56/400\n",
      "38/38 [==============================] - 0s 7ms/step - loss: 0.5200 - accuracy: 0.8369 - val_loss: 0.3102 - val_accuracy: 0.9101\n",
      "Epoch 57/400\n",
      "38/38 [==============================] - 0s 8ms/step - loss: 0.5206 - accuracy: 0.8413 - val_loss: 0.3015 - val_accuracy: 0.9160\n",
      "Epoch 58/400\n",
      "38/38 [==============================] - 0s 7ms/step - loss: 0.5040 - accuracy: 0.8401 - val_loss: 0.3043 - val_accuracy: 0.9106\n",
      "Epoch 59/400\n",
      "38/38 [==============================] - 0s 12ms/step - loss: 0.5360 - accuracy: 0.8341 - val_loss: 0.3149 - val_accuracy: 0.9087\n",
      "Epoch 60/400\n",
      "38/38 [==============================] - 0s 8ms/step - loss: 0.5165 - accuracy: 0.8302 - val_loss: 0.3071 - val_accuracy: 0.9121\n",
      "Epoch 61/400\n",
      "38/38 [==============================] - 0s 8ms/step - loss: 0.5123 - accuracy: 0.8448 - val_loss: 0.2974 - val_accuracy: 0.9192\n",
      "Epoch 62/400\n",
      "38/38 [==============================] - 0s 12ms/step - loss: 0.4901 - accuracy: 0.8484 - val_loss: 0.2973 - val_accuracy: 0.9197\n",
      "Epoch 63/400\n",
      "38/38 [==============================] - 0s 9ms/step - loss: 0.5008 - accuracy: 0.8401 - val_loss: 0.2943 - val_accuracy: 0.9143\n",
      "Epoch 64/400\n",
      "38/38 [==============================] - 0s 8ms/step - loss: 0.4870 - accuracy: 0.8428 - val_loss: 0.2943 - val_accuracy: 0.9175\n",
      "Epoch 65/400\n",
      "38/38 [==============================] - 0s 8ms/step - loss: 0.4859 - accuracy: 0.8412 - val_loss: 0.2933 - val_accuracy: 0.9143\n",
      "Epoch 66/400\n",
      "38/38 [==============================] - 0s 7ms/step - loss: 0.4941 - accuracy: 0.8486 - val_loss: 0.2905 - val_accuracy: 0.9170\n",
      "Epoch 67/400\n",
      "38/38 [==============================] - 0s 7ms/step - loss: 0.4874 - accuracy: 0.8520 - val_loss: 0.2882 - val_accuracy: 0.9170\n",
      "Epoch 68/400\n",
      "38/38 [==============================] - 0s 7ms/step - loss: 0.4997 - accuracy: 0.8431 - val_loss: 0.2881 - val_accuracy: 0.9197\n",
      "Epoch 69/400\n",
      "38/38 [==============================] - 0s 7ms/step - loss: 0.4963 - accuracy: 0.8401 - val_loss: 0.2905 - val_accuracy: 0.9190\n",
      "Epoch 70/400\n",
      "38/38 [==============================] - 0s 8ms/step - loss: 0.4933 - accuracy: 0.8397 - val_loss: 0.2831 - val_accuracy: 0.9160\n",
      "Epoch 71/400\n",
      "38/38 [==============================] - 0s 7ms/step - loss: 0.4887 - accuracy: 0.8506 - val_loss: 0.2876 - val_accuracy: 0.9182\n",
      "Epoch 72/400\n",
      "38/38 [==============================] - 0s 8ms/step - loss: 0.4758 - accuracy: 0.8484 - val_loss: 0.2844 - val_accuracy: 0.9167\n",
      "Epoch 73/400\n",
      "38/38 [==============================] - 0s 8ms/step - loss: 0.4834 - accuracy: 0.8503 - val_loss: 0.2861 - val_accuracy: 0.9172\n",
      "Epoch 74/400\n",
      "38/38 [==============================] - 0s 8ms/step - loss: 0.4720 - accuracy: 0.8524 - val_loss: 0.2856 - val_accuracy: 0.9185\n",
      "Epoch 75/400\n",
      "38/38 [==============================] - 0s 7ms/step - loss: 0.4779 - accuracy: 0.8520 - val_loss: 0.2833 - val_accuracy: 0.9167\n",
      "Epoch 76/400\n",
      "38/38 [==============================] - 0s 7ms/step - loss: 0.4895 - accuracy: 0.8436 - val_loss: 0.2815 - val_accuracy: 0.9192\n",
      "Epoch 77/400\n",
      "38/38 [==============================] - 0s 8ms/step - loss: 0.4617 - accuracy: 0.8547 - val_loss: 0.2785 - val_accuracy: 0.9160\n",
      "Epoch 78/400\n",
      "38/38 [==============================] - 0s 9ms/step - loss: 0.4739 - accuracy: 0.8509 - val_loss: 0.2845 - val_accuracy: 0.9187\n",
      "Epoch 79/400\n",
      "38/38 [==============================] - 0s 8ms/step - loss: 0.4538 - accuracy: 0.8524 - val_loss: 0.2870 - val_accuracy: 0.9141\n",
      "Epoch 80/400\n",
      "38/38 [==============================] - 0s 7ms/step - loss: 0.4841 - accuracy: 0.8446 - val_loss: 0.2801 - val_accuracy: 0.9194\n",
      "Epoch 81/400\n",
      "38/38 [==============================] - 0s 8ms/step - loss: 0.4655 - accuracy: 0.8505 - val_loss: 0.2820 - val_accuracy: 0.9165\n",
      "Epoch 82/400\n",
      "38/38 [==============================] - 0s 9ms/step - loss: 0.4640 - accuracy: 0.8496 - val_loss: 0.2767 - val_accuracy: 0.9177\n",
      "Epoch 83/400\n",
      "38/38 [==============================] - 0s 7ms/step - loss: 0.4803 - accuracy: 0.8446 - val_loss: 0.2764 - val_accuracy: 0.9204\n",
      "Epoch 84/400\n",
      "38/38 [==============================] - 0s 7ms/step - loss: 0.4599 - accuracy: 0.8521 - val_loss: 0.2774 - val_accuracy: 0.9155\n",
      "Epoch 85/400\n",
      "38/38 [==============================] - 0s 7ms/step - loss: 0.4702 - accuracy: 0.8527 - val_loss: 0.2872 - val_accuracy: 0.9126\n",
      "Epoch 86/400\n",
      "38/38 [==============================] - 0s 7ms/step - loss: 0.5000 - accuracy: 0.8413 - val_loss: 0.2766 - val_accuracy: 0.9185\n",
      "Epoch 87/400\n",
      "38/38 [==============================] - 0s 7ms/step - loss: 0.4561 - accuracy: 0.8498 - val_loss: 0.2767 - val_accuracy: 0.9194\n",
      "Epoch 88/400\n",
      "38/38 [==============================] - 0s 7ms/step - loss: 0.4671 - accuracy: 0.8502 - val_loss: 0.2716 - val_accuracy: 0.9219\n",
      "Epoch 89/400\n",
      "38/38 [==============================] - 0s 9ms/step - loss: 0.4477 - accuracy: 0.8572 - val_loss: 0.2793 - val_accuracy: 0.9165\n",
      "Epoch 90/400\n",
      "38/38 [==============================] - 0s 7ms/step - loss: 0.4656 - accuracy: 0.8471 - val_loss: 0.2713 - val_accuracy: 0.9177\n",
      "Epoch 91/400\n",
      "38/38 [==============================] - 0s 7ms/step - loss: 0.4745 - accuracy: 0.8508 - val_loss: 0.2814 - val_accuracy: 0.9167\n",
      "Epoch 92/400\n",
      "38/38 [==============================] - 0s 10ms/step - loss: 0.4414 - accuracy: 0.8538 - val_loss: 0.2743 - val_accuracy: 0.9182\n",
      "Epoch 93/400\n",
      "38/38 [==============================] - 0s 8ms/step - loss: 0.4680 - accuracy: 0.8502 - val_loss: 0.2699 - val_accuracy: 0.9199\n",
      "Epoch 94/400\n",
      "38/38 [==============================] - 0s 8ms/step - loss: 0.4560 - accuracy: 0.8523 - val_loss: 0.2719 - val_accuracy: 0.9209\n",
      "Epoch 95/400\n",
      "38/38 [==============================] - 0s 8ms/step - loss: 0.4793 - accuracy: 0.8477 - val_loss: 0.2704 - val_accuracy: 0.9202\n",
      "Epoch 96/400\n",
      "38/38 [==============================] - 0s 11ms/step - loss: 0.4536 - accuracy: 0.8629 - val_loss: 0.2690 - val_accuracy: 0.9199\n",
      "Epoch 97/400\n",
      "38/38 [==============================] - 0s 10ms/step - loss: 0.4655 - accuracy: 0.8512 - val_loss: 0.2725 - val_accuracy: 0.9212\n",
      "Epoch 98/400\n",
      "38/38 [==============================] - 0s 8ms/step - loss: 0.4720 - accuracy: 0.8448 - val_loss: 0.2704 - val_accuracy: 0.9212\n",
      "Epoch 99/400\n",
      "38/38 [==============================] - 0s 7ms/step - loss: 0.4628 - accuracy: 0.8530 - val_loss: 0.2700 - val_accuracy: 0.9190\n",
      "Epoch 100/400\n",
      "38/38 [==============================] - 0s 8ms/step - loss: 0.4577 - accuracy: 0.8553 - val_loss: 0.2746 - val_accuracy: 0.9170\n",
      "Epoch 101/400\n",
      "38/38 [==============================] - 0s 7ms/step - loss: 0.4563 - accuracy: 0.8532 - val_loss: 0.2736 - val_accuracy: 0.9207\n",
      "Epoch 102/400\n",
      "38/38 [==============================] - 0s 8ms/step - loss: 0.4616 - accuracy: 0.8497 - val_loss: 0.2738 - val_accuracy: 0.9167\n",
      "Epoch 103/400\n",
      "38/38 [==============================] - 0s 12ms/step - loss: 0.4391 - accuracy: 0.8618 - val_loss: 0.2722 - val_accuracy: 0.9192\n",
      "Epoch 104/400\n",
      "38/38 [==============================] - 0s 12ms/step - loss: 0.4365 - accuracy: 0.8609 - val_loss: 0.2807 - val_accuracy: 0.9126\n",
      "Epoch 105/400\n",
      "38/38 [==============================] - 0s 11ms/step - loss: 0.4605 - accuracy: 0.8492 - val_loss: 0.2708 - val_accuracy: 0.9199\n",
      "Epoch 106/400\n",
      "38/38 [==============================] - 0s 9ms/step - loss: 0.4431 - accuracy: 0.8577 - val_loss: 0.2711 - val_accuracy: 0.9187\n",
      "Epoch 107/400\n",
      "38/38 [==============================] - 0s 11ms/step - loss: 0.4542 - accuracy: 0.8441 - val_loss: 0.2730 - val_accuracy: 0.9185\n",
      "Epoch 108/400\n",
      "38/38 [==============================] - 0s 7ms/step - loss: 0.4432 - accuracy: 0.8536 - val_loss: 0.2649 - val_accuracy: 0.9170\n",
      "Epoch 109/400\n",
      "38/38 [==============================] - 0s 8ms/step - loss: 0.4237 - accuracy: 0.8633 - val_loss: 0.2878 - val_accuracy: 0.9114\n",
      "Epoch 110/400\n",
      "38/38 [==============================] - 0s 8ms/step - loss: 0.4623 - accuracy: 0.8513 - val_loss: 0.2716 - val_accuracy: 0.9148\n",
      "Epoch 111/400\n",
      "38/38 [==============================] - 0s 8ms/step - loss: 0.4362 - accuracy: 0.8605 - val_loss: 0.2689 - val_accuracy: 0.9209\n",
      "Epoch 112/400\n",
      "38/38 [==============================] - 0s 9ms/step - loss: 0.4483 - accuracy: 0.8518 - val_loss: 0.2687 - val_accuracy: 0.9175\n",
      "Epoch 113/400\n",
      "38/38 [==============================] - 0s 8ms/step - loss: 0.4503 - accuracy: 0.8547 - val_loss: 0.2721 - val_accuracy: 0.9194\n",
      "Epoch 114/400\n",
      "38/38 [==============================] - 0s 8ms/step - loss: 0.4432 - accuracy: 0.8643 - val_loss: 0.2686 - val_accuracy: 0.9145\n",
      "Epoch 115/400\n"
     ]
    },
    {
     "name": "stdout",
     "output_type": "stream",
     "text": [
      "38/38 [==============================] - 0s 8ms/step - loss: 0.4528 - accuracy: 0.8544 - val_loss: 0.2698 - val_accuracy: 0.9207\n",
      "Epoch 116/400\n",
      "38/38 [==============================] - 0s 9ms/step - loss: 0.4187 - accuracy: 0.8693 - val_loss: 0.2625 - val_accuracy: 0.9209\n",
      "Epoch 117/400\n",
      "38/38 [==============================] - 0s 8ms/step - loss: 0.4565 - accuracy: 0.8558 - val_loss: 0.2663 - val_accuracy: 0.9197\n",
      "Epoch 118/400\n",
      "38/38 [==============================] - 0s 7ms/step - loss: 0.4535 - accuracy: 0.8594 - val_loss: 0.2661 - val_accuracy: 0.9190\n",
      "Epoch 119/400\n",
      "38/38 [==============================] - 0s 8ms/step - loss: 0.4249 - accuracy: 0.8578 - val_loss: 0.2674 - val_accuracy: 0.9170\n",
      "Epoch 120/400\n",
      "38/38 [==============================] - 0s 7ms/step - loss: 0.4532 - accuracy: 0.8552 - val_loss: 0.2704 - val_accuracy: 0.9153\n",
      "Epoch 121/400\n",
      "38/38 [==============================] - 0s 8ms/step - loss: 0.4433 - accuracy: 0.8587 - val_loss: 0.2651 - val_accuracy: 0.9185\n",
      "Epoch 122/400\n",
      "38/38 [==============================] - 0s 10ms/step - loss: 0.4236 - accuracy: 0.8728 - val_loss: 0.2645 - val_accuracy: 0.9187\n",
      "Epoch 123/400\n",
      "38/38 [==============================] - 0s 7ms/step - loss: 0.4437 - accuracy: 0.8647 - val_loss: 0.2704 - val_accuracy: 0.9170\n",
      "Epoch 124/400\n",
      "38/38 [==============================] - 0s 8ms/step - loss: 0.4359 - accuracy: 0.8714 - val_loss: 0.2654 - val_accuracy: 0.9182\n",
      "Epoch 125/400\n",
      "38/38 [==============================] - 0s 9ms/step - loss: 0.4345 - accuracy: 0.8662 - val_loss: 0.2674 - val_accuracy: 0.9187\n",
      "Epoch 126/400\n",
      "38/38 [==============================] - 0s 10ms/step - loss: 0.4364 - accuracy: 0.8587 - val_loss: 0.2662 - val_accuracy: 0.9197\n",
      "Epoch 127/400\n",
      "38/38 [==============================] - 0s 8ms/step - loss: 0.4072 - accuracy: 0.8702 - val_loss: 0.2690 - val_accuracy: 0.9131\n",
      "Epoch 128/400\n",
      "38/38 [==============================] - 0s 8ms/step - loss: 0.4258 - accuracy: 0.8633 - val_loss: 0.2670 - val_accuracy: 0.9182\n",
      "Epoch 129/400\n",
      "38/38 [==============================] - 0s 8ms/step - loss: 0.4368 - accuracy: 0.8662 - val_loss: 0.2622 - val_accuracy: 0.9194\n",
      "Epoch 130/400\n",
      "38/38 [==============================] - 0s 13ms/step - loss: 0.4298 - accuracy: 0.8663 - val_loss: 0.2641 - val_accuracy: 0.9204\n",
      "Epoch 131/400\n",
      "38/38 [==============================] - 0s 12ms/step - loss: 0.4524 - accuracy: 0.8636 - val_loss: 0.2619 - val_accuracy: 0.9185\n",
      "Epoch 132/400\n",
      "38/38 [==============================] - 0s 9ms/step - loss: 0.4346 - accuracy: 0.8597 - val_loss: 0.2668 - val_accuracy: 0.9194\n",
      "Epoch 133/400\n",
      "38/38 [==============================] - 0s 8ms/step - loss: 0.4260 - accuracy: 0.8595 - val_loss: 0.2609 - val_accuracy: 0.9192\n",
      "Epoch 134/400\n",
      "38/38 [==============================] - 0s 8ms/step - loss: 0.4132 - accuracy: 0.8702 - val_loss: 0.2627 - val_accuracy: 0.9194\n",
      "Epoch 135/400\n",
      "38/38 [==============================] - 0s 10ms/step - loss: 0.4265 - accuracy: 0.8652 - val_loss: 0.2581 - val_accuracy: 0.9207\n",
      "Epoch 136/400\n",
      "38/38 [==============================] - 0s 9ms/step - loss: 0.4106 - accuracy: 0.8738 - val_loss: 0.2572 - val_accuracy: 0.9202\n",
      "Epoch 137/400\n",
      "38/38 [==============================] - 0s 8ms/step - loss: 0.4260 - accuracy: 0.8682 - val_loss: 0.2592 - val_accuracy: 0.9185\n",
      "Epoch 138/400\n",
      "38/38 [==============================] - 0s 8ms/step - loss: 0.4394 - accuracy: 0.8651 - val_loss: 0.2586 - val_accuracy: 0.9212\n",
      "Epoch 139/400\n",
      "38/38 [==============================] - 0s 8ms/step - loss: 0.4332 - accuracy: 0.8570 - val_loss: 0.2576 - val_accuracy: 0.9190\n",
      "Epoch 140/400\n",
      "38/38 [==============================] - 0s 8ms/step - loss: 0.4302 - accuracy: 0.8688 - val_loss: 0.2619 - val_accuracy: 0.9190\n",
      "Epoch 141/400\n",
      "38/38 [==============================] - 0s 8ms/step - loss: 0.4096 - accuracy: 0.8670 - val_loss: 0.2558 - val_accuracy: 0.9202\n",
      "Epoch 142/400\n",
      "38/38 [==============================] - 0s 8ms/step - loss: 0.4335 - accuracy: 0.8679 - val_loss: 0.2578 - val_accuracy: 0.9216\n",
      "Epoch 143/400\n",
      "38/38 [==============================] - 0s 8ms/step - loss: 0.4200 - accuracy: 0.8655 - val_loss: 0.2615 - val_accuracy: 0.9207\n",
      "Epoch 144/400\n",
      "38/38 [==============================] - 0s 8ms/step - loss: 0.4229 - accuracy: 0.8671 - val_loss: 0.2593 - val_accuracy: 0.9192\n",
      "Epoch 145/400\n",
      "38/38 [==============================] - 0s 8ms/step - loss: 0.4174 - accuracy: 0.8742 - val_loss: 0.2613 - val_accuracy: 0.9219\n",
      "Epoch 146/400\n",
      "38/38 [==============================] - 0s 8ms/step - loss: 0.4493 - accuracy: 0.8578 - val_loss: 0.2647 - val_accuracy: 0.9175\n",
      "Epoch 147/400\n",
      "38/38 [==============================] - 0s 8ms/step - loss: 0.4128 - accuracy: 0.8652 - val_loss: 0.2565 - val_accuracy: 0.9219\n",
      "Epoch 148/400\n",
      "38/38 [==============================] - 0s 8ms/step - loss: 0.4347 - accuracy: 0.8659 - val_loss: 0.2566 - val_accuracy: 0.9192\n",
      "Epoch 149/400\n",
      "38/38 [==============================] - 0s 8ms/step - loss: 0.4292 - accuracy: 0.8685 - val_loss: 0.2654 - val_accuracy: 0.9185\n",
      "Epoch 150/400\n",
      "38/38 [==============================] - 0s 8ms/step - loss: 0.4343 - accuracy: 0.8632 - val_loss: 0.2598 - val_accuracy: 0.9167\n",
      "Epoch 151/400\n",
      "38/38 [==============================] - 0s 8ms/step - loss: 0.4092 - accuracy: 0.8731 - val_loss: 0.2573 - val_accuracy: 0.9209\n",
      "Epoch 152/400\n",
      "38/38 [==============================] - 0s 12ms/step - loss: 0.4210 - accuracy: 0.8681 - val_loss: 0.2689 - val_accuracy: 0.9155\n",
      "Epoch 153/400\n",
      "38/38 [==============================] - 0s 12ms/step - loss: 0.4082 - accuracy: 0.8746 - val_loss: 0.2620 - val_accuracy: 0.9192\n",
      "Epoch 154/400\n",
      "38/38 [==============================] - 0s 12ms/step - loss: 0.4285 - accuracy: 0.8698 - val_loss: 0.2585 - val_accuracy: 0.9187\n",
      "Epoch 155/400\n",
      "38/38 [==============================] - 0s 8ms/step - loss: 0.4042 - accuracy: 0.8697 - val_loss: 0.2632 - val_accuracy: 0.9202\n",
      "Epoch 156/400\n",
      "38/38 [==============================] - 0s 8ms/step - loss: 0.3959 - accuracy: 0.8714 - val_loss: 0.2540 - val_accuracy: 0.9177\n",
      "Epoch 157/400\n",
      "38/38 [==============================] - 0s 7ms/step - loss: 0.4229 - accuracy: 0.8650 - val_loss: 0.2573 - val_accuracy: 0.9207\n",
      "Epoch 158/400\n",
      "38/38 [==============================] - 0s 8ms/step - loss: 0.4070 - accuracy: 0.8734 - val_loss: 0.2566 - val_accuracy: 0.9197\n",
      "Epoch 159/400\n",
      "38/38 [==============================] - 0s 9ms/step - loss: 0.4049 - accuracy: 0.8696 - val_loss: 0.2552 - val_accuracy: 0.9197\n",
      "Epoch 160/400\n",
      "38/38 [==============================] - 0s 9ms/step - loss: 0.4037 - accuracy: 0.8683 - val_loss: 0.2592 - val_accuracy: 0.9199\n",
      "Epoch 161/400\n",
      "38/38 [==============================] - 0s 9ms/step - loss: 0.4135 - accuracy: 0.8702 - val_loss: 0.2634 - val_accuracy: 0.9167\n",
      "Epoch 162/400\n",
      "38/38 [==============================] - 0s 9ms/step - loss: 0.4054 - accuracy: 0.8707 - val_loss: 0.2587 - val_accuracy: 0.9194\n",
      "Epoch 163/400\n",
      "38/38 [==============================] - 0s 11ms/step - loss: 0.4232 - accuracy: 0.8692 - val_loss: 0.2625 - val_accuracy: 0.9172\n",
      "Epoch 164/400\n",
      "38/38 [==============================] - 0s 8ms/step - loss: 0.4293 - accuracy: 0.8610 - val_loss: 0.2607 - val_accuracy: 0.9197\n",
      "Epoch 165/400\n",
      "38/38 [==============================] - 0s 8ms/step - loss: 0.4164 - accuracy: 0.8720 - val_loss: 0.2566 - val_accuracy: 0.9190\n",
      "Epoch 166/400\n",
      "38/38 [==============================] - 0s 8ms/step - loss: 0.3990 - accuracy: 0.8768 - val_loss: 0.2557 - val_accuracy: 0.9197\n",
      "Epoch 167/400\n",
      "38/38 [==============================] - 0s 8ms/step - loss: 0.4057 - accuracy: 0.8738 - val_loss: 0.2639 - val_accuracy: 0.9180\n",
      "Epoch 168/400\n",
      "38/38 [==============================] - 0s 8ms/step - loss: 0.4150 - accuracy: 0.8672 - val_loss: 0.2579 - val_accuracy: 0.9197\n",
      "Epoch 169/400\n",
      "38/38 [==============================] - 0s 8ms/step - loss: 0.4197 - accuracy: 0.8671 - val_loss: 0.2536 - val_accuracy: 0.9194\n",
      "Epoch 170/400\n",
      "38/38 [==============================] - 0s 8ms/step - loss: 0.4148 - accuracy: 0.8636 - val_loss: 0.2549 - val_accuracy: 0.9204\n",
      "Epoch 171/400\n",
      "38/38 [==============================] - 0s 11ms/step - loss: 0.3836 - accuracy: 0.8752 - val_loss: 0.2564 - val_accuracy: 0.9212\n",
      "Epoch 172/400\n",
      "38/38 [==============================] - 0s 8ms/step - loss: 0.4129 - accuracy: 0.8677 - val_loss: 0.2656 - val_accuracy: 0.9214\n",
      "Epoch 173/400\n",
      "38/38 [==============================] - 0s 7ms/step - loss: 0.4190 - accuracy: 0.8744 - val_loss: 0.2648 - val_accuracy: 0.9165\n",
      "Epoch 174/400\n",
      "38/38 [==============================] - 0s 8ms/step - loss: 0.4023 - accuracy: 0.8669 - val_loss: 0.2575 - val_accuracy: 0.9216\n",
      "Epoch 175/400\n",
      "38/38 [==============================] - 0s 11ms/step - loss: 0.4042 - accuracy: 0.8726 - val_loss: 0.2628 - val_accuracy: 0.9172\n",
      "Epoch 176/400\n",
      "38/38 [==============================] - 0s 7ms/step - loss: 0.4128 - accuracy: 0.8686 - val_loss: 0.2565 - val_accuracy: 0.9194\n",
      "Epoch 177/400\n",
      "38/38 [==============================] - ETA: 0s - loss: 0.4065 - accuracy: 0.87 - 0s 11ms/step - loss: 0.4056 - accuracy: 0.8715 - val_loss: 0.2553 - val_accuracy: 0.9177\n",
      "Epoch 178/400\n",
      "38/38 [==============================] - 0s 11ms/step - loss: 0.4126 - accuracy: 0.8714 - val_loss: 0.2586 - val_accuracy: 0.9177\n",
      "Epoch 179/400\n",
      "38/38 [==============================] - 0s 10ms/step - loss: 0.3941 - accuracy: 0.8694 - val_loss: 0.2640 - val_accuracy: 0.9175\n",
      "Epoch 180/400\n",
      "38/38 [==============================] - 0s 8ms/step - loss: 0.4078 - accuracy: 0.8699 - val_loss: 0.2553 - val_accuracy: 0.9209\n",
      "Epoch 181/400\n",
      "38/38 [==============================] - 1s 13ms/step - loss: 0.3833 - accuracy: 0.8740 - val_loss: 0.2606 - val_accuracy: 0.9170\n",
      "Epoch 182/400\n",
      "38/38 [==============================] - 0s 11ms/step - loss: 0.4124 - accuracy: 0.8678 - val_loss: 0.2597 - val_accuracy: 0.9190\n",
      "Epoch 183/400\n",
      "38/38 [==============================] - 0s 9ms/step - loss: 0.4220 - accuracy: 0.8642 - val_loss: 0.2635 - val_accuracy: 0.9155\n",
      "Epoch 184/400\n",
      "38/38 [==============================] - 0s 8ms/step - loss: 0.4130 - accuracy: 0.8609 - val_loss: 0.2555 - val_accuracy: 0.9192\n",
      "Epoch 185/400\n",
      "38/38 [==============================] - 0s 8ms/step - loss: 0.4114 - accuracy: 0.8685 - val_loss: 0.2607 - val_accuracy: 0.9207\n",
      "Epoch 186/400\n",
      "38/38 [==============================] - 0s 8ms/step - loss: 0.3997 - accuracy: 0.8683 - val_loss: 0.2558 - val_accuracy: 0.9207\n",
      "Epoch 187/400\n",
      "38/38 [==============================] - 0s 7ms/step - loss: 0.4076 - accuracy: 0.8691 - val_loss: 0.2552 - val_accuracy: 0.9207\n",
      "Epoch 188/400\n",
      "38/38 [==============================] - 0s 7ms/step - loss: 0.4029 - accuracy: 0.8736 - val_loss: 0.2629 - val_accuracy: 0.9170\n",
      "Epoch 189/400\n",
      "38/38 [==============================] - 0s 8ms/step - loss: 0.4142 - accuracy: 0.8694 - val_loss: 0.2634 - val_accuracy: 0.9204\n",
      "Epoch 190/400\n",
      "38/38 [==============================] - 0s 10ms/step - loss: 0.3932 - accuracy: 0.8684 - val_loss: 0.2590 - val_accuracy: 0.9207\n",
      "Epoch 191/400\n",
      "38/38 [==============================] - 0s 9ms/step - loss: 0.4030 - accuracy: 0.8646 - val_loss: 0.2601 - val_accuracy: 0.9214\n",
      "Epoch 192/400\n",
      "38/38 [==============================] - 0s 8ms/step - loss: 0.4105 - accuracy: 0.8678 - val_loss: 0.2625 - val_accuracy: 0.9192\n",
      "Epoch 193/400\n",
      "38/38 [==============================] - 0s 8ms/step - loss: 0.3865 - accuracy: 0.8743 - val_loss: 0.2606 - val_accuracy: 0.9216\n",
      "Epoch 194/400\n",
      "38/38 [==============================] - 0s 8ms/step - loss: 0.4026 - accuracy: 0.8706 - val_loss: 0.2577 - val_accuracy: 0.9192\n",
      "Epoch 00194: early stopping\n"
     ]
    },
    {
     "data": {
      "text/plain": [
       "<tensorflow.python.keras.callbacks.History at 0x18465ae82b0>"
      ]
     },
     "execution_count": 14,
     "metadata": {},
     "output_type": "execute_result"
    }
   ],
   "source": [
    "model.fit(x=X_train,y=y_train,epochs=400,validation_data=(X_test,y_test),batch_size=256,callbacks=early_stop)"
   ]
  },
  {
   "cell_type": "markdown",
   "metadata": {},
   "source": [
    "### Model Evaluation"
   ]
  },
  {
   "cell_type": "code",
   "execution_count": 15,
   "metadata": {
    "scrolled": true
   },
   "outputs": [
    {
     "data": {
      "text/plain": [
       "<AxesSubplot:>"
      ]
     },
     "execution_count": 15,
     "metadata": {},
     "output_type": "execute_result"
    },
    {
     "data": {
      "image/png": "[encoded data removed]",
      "text/plain": [
       "<Figure size 432x288 with 1 Axes>"
      ]
     },
     "metadata": {
      "needs_background": "light"
     },
     "output_type": "display_data"
    }
   ],
   "source": [
    "losses = pd.DataFrame(model.history.history)\n",
    "losses[['loss','val_loss']].plot()"
   ]
  },
  {
   "cell_type": "code",
   "execution_count": 16,
   "metadata": {},
   "outputs": [
    {
     "name": "stdout",
     "output_type": "stream",
     "text": [
      "16/16 [==============================] - 0s 2ms/step - loss: 0.2577 - accuracy: 0.9192\n"
     ]
    }
   ],
   "source": [
    "score = model.evaluate(X_test,y_test,batch_size =256)"
   ]
  },
  {
   "cell_type": "code",
   "execution_count": 17,
   "metadata": {},
   "outputs": [
    {
     "name": "stdout",
     "output_type": "stream",
     "text": [
      "Accuracy\n"
     ]
    },
    {
     "data": {
      "text/plain": [
       "0.9191968441009521"
      ]
     },
     "execution_count": 17,
     "metadata": {},
     "output_type": "execute_result"
    }
   ],
   "source": [
    "print(\"Accuracy\")\n",
    "score[1]"
   ]
  }
 ],
 "metadata": {
  "kernelspec": {
   "display_name": "Python 3",
   "language": "python",
   "name": "python3"
  },
  "language_info": {
   "codemirror_mode": {
    "name": "ipython",
    "version": 3
   },
   "file_extension": ".py",
   "mimetype": "text/x-python",
   "name": "python",
   "nbconvert_exporter": "python",
   "pygments_lexer": "ipython3",
   "version": "3.8.5"
  }
 },
 "nbformat": 4,
 "nbformat_minor": 4
}
